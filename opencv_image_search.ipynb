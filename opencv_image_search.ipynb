{
 "cells": [
  {
   "cell_type": "code",
   "execution_count": null,
   "metadata": {
    "colab": {},
    "colab_type": "code",
    "id": "j6185NqWB5nt"
   },
   "outputs": [],
   "source": []
  },
  {
   "cell_type": "code",
   "execution_count": 2,
   "metadata": {
    "colab": {},
    "colab_type": "code",
    "id": "Uav4QVT33-G6"
   },
   "outputs": [],
   "source": [
    "import cv2\n",
    "import numpy as np\n",
    "import scipy\n",
    "from scipy.misc import imread\n",
    "import pickle\n",
    "import random\n",
    "import os\n",
    "import matplotlib.pyplot as plt\n",
    "import imageio"
   ]
  },
  {
   "cell_type": "code",
   "execution_count": 3,
   "metadata": {
    "colab": {},
    "colab_type": "code",
    "id": "foOzsuUP4QYH"
   },
   "outputs": [],
   "source": [
    "# Feature extractor\n",
    "def extract_features(image_path, vector_size=32):\n",
    "    image = imageio.imread(image_path, pilmode=\"RGB\")\n",
    "    try:\n",
    "        # Using KAZE, cause SIFT, ORB and other was moved to additional module\n",
    "        # which is adding addtional pain during install\n",
    "        alg = cv2.KAZE_create()\n",
    "        # Dinding image keypoints\n",
    "        kps = alg.detect(image, sublevels=8)\n",
    "        cv2.drawKeypoints(image,kps,image, color=(0,255,0), flags=0)\n",
    "        plt.imshow(image),plt.show()\n",
    "        # Getting first 32 of them. \n",
    "        # Number of keypoints is varies depend on image size and color pallet\n",
    "        # Sorting them based on keypoint response value(bigger is better)\n",
    "        kps = sorted(kps, key=lambda x: -x.response)[:vector_size]\n",
    "        # computing descriptors vector\n",
    "        kps, dsc = alg.compute(image, kps)\n",
    "        # Flatten all of them in one big vector - our feature vector\n",
    "        dsc = dsc.flatten()\n",
    "        # Making descriptor of same size\n",
    "        # Descriptor vector size is 64\n",
    "        needed_size = (vector_size * 64)\n",
    "        if dsc.size < needed_size:\n",
    "            # if we have less the 32 descriptors then just adding zeros at the\n",
    "            # end of our feature vector\n",
    "            dsc = np.concatenate([dsc, np.zeros(needed_size - dsc.size)])\n",
    "    except cv2.error as e:\n",
    "        print( 'Error: ', e)\n",
    "        return None\n",
    "\n",
    "    return dsc\n",
    "\n",
    "\n",
    "def batch_extractor(images_path, pickled_db_path=\"features.pck\"):\n",
    "    files = [os.path.join(images_path, p) for p in sorted(os.listdir(images_path))]\n",
    "\n",
    "    result = {}\n",
    "    for f in files:\n",
    "        print ('Extracting features from image %s' % f)\n",
    "        name = f.split('/')[-1].lower()\n",
    "        result[name] = extract_features(f)\n",
    "    \n",
    "    # saving all our feature vectors in pickled file\n",
    "    with open(pickled_db_path, 'wb') as fp:\n",
    "        pickle.dump(result, fp)"
   ]
  },
  {
   "cell_type": "code",
   "execution_count": 4,
   "metadata": {
    "colab": {},
    "colab_type": "code",
    "id": "Q20sohfC5Vng"
   },
   "outputs": [],
   "source": [
    "class Matcher(object):\n",
    "\n",
    "    def __init__(self, pickled_db_path=\"features.pck\"):\n",
    "        with open(pickled_db_path, 'rb') as fp:\n",
    "            self.data = pickle.load(fp)\n",
    "        self.names = []\n",
    "        self.matrix = []\n",
    "        for k, v in self.data.items():\n",
    "            self.names.append(k)\n",
    "            self.matrix.append(v)\n",
    "        self.matrix = np.array(self.matrix)\n",
    "        self.names = np.array(self.names)\n",
    "\n",
    "    def cos_cdist(self, vector):\n",
    "        # getting cosine distance between search image and images database\n",
    "        v = vector.reshape(1, -1)\n",
    "        return scipy.spatial.distance.cdist(self.matrix, v, 'cosine').reshape(-1)\n",
    "\n",
    "    def match(self, image_path, topn=5):\n",
    "        features = extract_features(image_path)\n",
    "        img_distances = self.cos_cdist(features)\n",
    "        # getting top 5 records\n",
    "        nearest_ids = np.argsort(img_distances)[:topn].tolist()\n",
    "        nearest_img_paths = self.names[nearest_ids].tolist()\n",
    "\n",
    "        return nearest_img_paths, img_distances[nearest_ids].tolist()"
   ]
  },
  {
   "cell_type": "code",
   "execution_count": 5,
   "metadata": {
    "colab": {},
    "colab_type": "code",
    "id": "RnQwLPMi7vXp"
   },
   "outputs": [
    {
     "name": "stdout",
     "output_type": "stream",
     "text": [
      "Extracting features from image images2/0.jpeg\n"
     ]
    },
    {
     "ename": "TypeError",
     "evalue": "'sublevels' is an invalid keyword argument for this function",
     "output_type": "error",
     "traceback": [
      "\u001b[0;31m---------------------------------------------------------------------------\u001b[0m",
      "\u001b[0;31mTypeError\u001b[0m                                 Traceback (most recent call last)",
      "\u001b[0;32m<ipython-input-5-53353ff96661>\u001b[0m in \u001b[0;36m<module>\u001b[0;34m()\u001b[0m\n\u001b[1;32m     51\u001b[0m             \u001b[0mprint\u001b[0m \u001b[0;34m(\u001b[0m\u001b[0;34m'========================================'\u001b[0m\u001b[0;34m)\u001b[0m\u001b[0;34m\u001b[0m\u001b[0m\n\u001b[1;32m     52\u001b[0m \u001b[0;34m\u001b[0m\u001b[0m\n\u001b[0;32m---> 53\u001b[0;31m \u001b[0mrun\u001b[0m\u001b[0;34m(\u001b[0m\u001b[0;34m)\u001b[0m\u001b[0;34m\u001b[0m\u001b[0m\n\u001b[0m",
      "\u001b[0;32m<ipython-input-5-53353ff96661>\u001b[0m in \u001b[0;36mrun\u001b[0;34m()\u001b[0m\n\u001b[1;32m     10\u001b[0m     \u001b[0msample\u001b[0m \u001b[0;34m=\u001b[0m \u001b[0;34m[\u001b[0m\u001b[0mfiles\u001b[0m\u001b[0;34m[\u001b[0m\u001b[0;36m0\u001b[0m\u001b[0;34m]\u001b[0m\u001b[0;34m]\u001b[0m\u001b[0;34m\u001b[0m\u001b[0m\n\u001b[1;32m     11\u001b[0m \u001b[0;34m\u001b[0m\u001b[0m\n\u001b[0;32m---> 12\u001b[0;31m     \u001b[0mbatch_extractor\u001b[0m\u001b[0;34m(\u001b[0m\u001b[0mimages_path\u001b[0m\u001b[0;34m)\u001b[0m\u001b[0;34m\u001b[0m\u001b[0m\n\u001b[0m\u001b[1;32m     13\u001b[0m \u001b[0;34m\u001b[0m\u001b[0m\n\u001b[1;32m     14\u001b[0m     \u001b[0mma\u001b[0m \u001b[0;34m=\u001b[0m \u001b[0mMatcher\u001b[0m\u001b[0;34m(\u001b[0m\u001b[0;34m'features.pck'\u001b[0m\u001b[0;34m)\u001b[0m\u001b[0;34m\u001b[0m\u001b[0m\n",
      "\u001b[0;32m<ipython-input-3-450f30efbf48>\u001b[0m in \u001b[0;36mbatch_extractor\u001b[0;34m(images_path, pickled_db_path)\u001b[0m\n\u001b[1;32m     39\u001b[0m         \u001b[0mprint\u001b[0m \u001b[0;34m(\u001b[0m\u001b[0;34m'Extracting features from image %s'\u001b[0m \u001b[0;34m%\u001b[0m \u001b[0mf\u001b[0m\u001b[0;34m)\u001b[0m\u001b[0;34m\u001b[0m\u001b[0m\n\u001b[1;32m     40\u001b[0m         \u001b[0mname\u001b[0m \u001b[0;34m=\u001b[0m \u001b[0mf\u001b[0m\u001b[0;34m.\u001b[0m\u001b[0msplit\u001b[0m\u001b[0;34m(\u001b[0m\u001b[0;34m'/'\u001b[0m\u001b[0;34m)\u001b[0m\u001b[0;34m[\u001b[0m\u001b[0;34m-\u001b[0m\u001b[0;36m1\u001b[0m\u001b[0;34m]\u001b[0m\u001b[0;34m.\u001b[0m\u001b[0mlower\u001b[0m\u001b[0;34m(\u001b[0m\u001b[0;34m)\u001b[0m\u001b[0;34m\u001b[0m\u001b[0m\n\u001b[0;32m---> 41\u001b[0;31m         \u001b[0mresult\u001b[0m\u001b[0;34m[\u001b[0m\u001b[0mname\u001b[0m\u001b[0;34m]\u001b[0m \u001b[0;34m=\u001b[0m \u001b[0mextract_features\u001b[0m\u001b[0;34m(\u001b[0m\u001b[0mf\u001b[0m\u001b[0;34m)\u001b[0m\u001b[0;34m\u001b[0m\u001b[0m\n\u001b[0m\u001b[1;32m     42\u001b[0m \u001b[0;34m\u001b[0m\u001b[0m\n\u001b[1;32m     43\u001b[0m     \u001b[0;31m# saving all our feature vectors in pickled file\u001b[0m\u001b[0;34m\u001b[0m\u001b[0;34m\u001b[0m\u001b[0m\n",
      "\u001b[0;32m<ipython-input-3-450f30efbf48>\u001b[0m in \u001b[0;36mextract_features\u001b[0;34m(image_path, vector_size)\u001b[0m\n\u001b[1;32m      7\u001b[0m         \u001b[0malg\u001b[0m \u001b[0;34m=\u001b[0m \u001b[0mcv2\u001b[0m\u001b[0;34m.\u001b[0m\u001b[0mKAZE_create\u001b[0m\u001b[0;34m(\u001b[0m\u001b[0;34m)\u001b[0m\u001b[0;34m\u001b[0m\u001b[0m\n\u001b[1;32m      8\u001b[0m         \u001b[0;31m# Dinding image keypoints\u001b[0m\u001b[0;34m\u001b[0m\u001b[0;34m\u001b[0m\u001b[0m\n\u001b[0;32m----> 9\u001b[0;31m         \u001b[0mkps\u001b[0m \u001b[0;34m=\u001b[0m \u001b[0malg\u001b[0m\u001b[0;34m.\u001b[0m\u001b[0mdetect\u001b[0m\u001b[0;34m(\u001b[0m\u001b[0mimage\u001b[0m\u001b[0;34m,\u001b[0m \u001b[0msublevels\u001b[0m\u001b[0;34m=\u001b[0m\u001b[0;36m8\u001b[0m\u001b[0;34m)\u001b[0m\u001b[0;34m\u001b[0m\u001b[0m\n\u001b[0m\u001b[1;32m     10\u001b[0m         \u001b[0mcv2\u001b[0m\u001b[0;34m.\u001b[0m\u001b[0mdrawKeypoints\u001b[0m\u001b[0;34m(\u001b[0m\u001b[0mimage\u001b[0m\u001b[0;34m,\u001b[0m\u001b[0mkps\u001b[0m\u001b[0;34m,\u001b[0m\u001b[0mimage\u001b[0m\u001b[0;34m,\u001b[0m \u001b[0mcolor\u001b[0m\u001b[0;34m=\u001b[0m\u001b[0;34m(\u001b[0m\u001b[0;36m0\u001b[0m\u001b[0;34m,\u001b[0m\u001b[0;36m255\u001b[0m\u001b[0;34m,\u001b[0m\u001b[0;36m0\u001b[0m\u001b[0;34m)\u001b[0m\u001b[0;34m,\u001b[0m \u001b[0mflags\u001b[0m\u001b[0;34m=\u001b[0m\u001b[0;36m0\u001b[0m\u001b[0;34m)\u001b[0m\u001b[0;34m\u001b[0m\u001b[0m\n\u001b[1;32m     11\u001b[0m         \u001b[0mplt\u001b[0m\u001b[0;34m.\u001b[0m\u001b[0mimshow\u001b[0m\u001b[0;34m(\u001b[0m\u001b[0mimage\u001b[0m\u001b[0;34m)\u001b[0m\u001b[0;34m,\u001b[0m\u001b[0mplt\u001b[0m\u001b[0;34m.\u001b[0m\u001b[0mshow\u001b[0m\u001b[0;34m(\u001b[0m\u001b[0;34m)\u001b[0m\u001b[0;34m\u001b[0m\u001b[0m\n",
      "\u001b[0;31mTypeError\u001b[0m: 'sublevels' is an invalid keyword argument for this function"
     ]
    }
   ],
   "source": [
    "def show_img(path):\n",
    "    img = imageio.imread(path, pilmode=\"RGB\")\n",
    "    plt.imshow(img)\n",
    "    plt.show()\n",
    "    \n",
    "def run():\n",
    "    # images_path = 'resources/images/'\n",
    "    images_path = 'images2/'\n",
    "    files = [os.path.join(images_path, p) for p in sorted(os.listdir(images_path))]\n",
    "    sample = [files[0]]\n",
    "    \n",
    "    batch_extractor(images_path)\n",
    "\n",
    "    ma = Matcher('features.pck')\n",
    "    \n",
    "    for s in sample:\n",
    "        print( 'Query image ==========================================')\n",
    "        show_img(s)\n",
    "        print(s)\n",
    "        names, match = ma.match(s, topn=18)\n",
    "        print ('Result images ========================================')\n",
    "        for i in range(14):\n",
    "            # we got cosine distance, less cosine distance between vectors\n",
    "            # more they similar, thus we subtruct it from 1 to get match value\n",
    "            print( 'Match %s' % (1-match[i]))\n",
    "            print(names[i])\n",
    "            show_img(os.path.join(images_path, names[i]))\n",
    "            print ('========================================')\n",
    "           \n",
    "        \n",
    "    images_path = 'images/'\n",
    "    files = [os.path.join(images_path, p) for p in sorted(os.listdir(images_path))]\n",
    "    sample = [files[0]]\n",
    "    \n",
    "    batch_extractor(images_path)\n",
    "\n",
    "    ma = Matcher('features.pck')\n",
    "    \n",
    "    for s in sample:\n",
    "        print( 'Query image ==========================================')\n",
    "        show_img(s)\n",
    "        print(s)\n",
    "        names, match = ma.match(s, topn=18)\n",
    "        print ('Result images ========================================')\n",
    "        for i in range(14):\n",
    "            # we got cosine distance, less cosine distance between vectors\n",
    "            # more they similar, thus we subtruct it from 1 to get match value\n",
    "            print( 'Match %s' % (1-match[i]))\n",
    "            print(names[i])\n",
    "            show_img(os.path.join(images_path, names[i]))\n",
    "            print ('========================================')\n",
    "\n",
    "run()"
   ]
  },
  {
   "cell_type": "code",
   "execution_count": 6,
   "metadata": {},
   "outputs": [],
   "source": [
    "def kaze_match(im1_path, im2_path):\n",
    "    # load the image and convert it to grayscale\n",
    "    im1 = cv2.imread(im1_path)\n",
    "    im2 = cv2.imread(im2_path)\n",
    "    gray1 = cv2.cvtColor(im1, cv2.COLOR_BGR2GRAY)\n",
    "    gray2 = cv2.cvtColor(im2, cv2.COLOR_BGR2GRAY)    \n",
    "\n",
    "    # initialize the AKAZE descriptor, then detect keypoints and extract\n",
    "    # local invariant descriptors from the image\n",
    "    detector = cv2.AKAZE_create()\n",
    "    (kps1, descs1) = detector.detectAndCompute(gray1, None)\n",
    "    (kps2, descs2) = detector.detectAndCompute(gray2, None)\n",
    "\n",
    "    print(\"keypoints: {}, descriptors: {}\".format(len(kps1), descs1.shape))\n",
    "    print(\"keypoints: {}, descriptors: {}\".format(len(kps2), descs2.shape))    \n",
    "\n",
    "    # Match the features\n",
    "    bf = cv2.BFMatcher(cv2.NORM_HAMMING)\n",
    "    matches = bf.knnMatch(descs1,dddescs2, k=2)    # typo fixed\n",
    "\n",
    "    # Apply ratio test\n",
    "    good = []\n",
    "    for m,n in matches:\n",
    "        if m.distance < 0.9*n.distance:\n",
    "            good.append([m])\n",
    "\n",
    "    # cv2.drawMatchesKnn expects list of lists as matches.\n",
    "    im3 = cv2.drawMatchesKnn(im1, kps1, im2, kps2, good[1:20], None, flags=2)\n",
    "    cv2.imshow(\"AKAZE matching\", im3)\n",
    "    cv2.waitKey(0)\n",
    "    "
   ]
  },
  {
   "cell_type": "code",
   "execution_count": 7,
   "metadata": {},
   "outputs": [
    {
     "ename": "error",
     "evalue": "OpenCV(3.4.5) /io/opencv/modules/imgproc/src/color.cpp:181: error: (-215:Assertion failed) !_src.empty() in function 'cvtColor'\n",
     "output_type": "error",
     "traceback": [
      "\u001b[0;31m---------------------------------------------------------------------------\u001b[0m",
      "\u001b[0;31merror\u001b[0m                                     Traceback (most recent call last)",
      "\u001b[0;32m<ipython-input-7-6850fc8a9b86>\u001b[0m in \u001b[0;36m<module>\u001b[0;34m()\u001b[0m\n\u001b[0;32m----> 1\u001b[0;31m \u001b[0mkaze_match\u001b[0m\u001b[0;34m(\u001b[0m\u001b[0;34m'images/1.jpeg'\u001b[0m\u001b[0;34m,\u001b[0m \u001b[0;34m'images/bad1.jpeg1'\u001b[0m\u001b[0;34m)\u001b[0m\u001b[0;34m\u001b[0m\u001b[0m\n\u001b[0m",
      "\u001b[0;32m<ipython-input-6-773a62ec2a26>\u001b[0m in \u001b[0;36mkaze_match\u001b[0;34m(im1_path, im2_path)\u001b[0m\n\u001b[1;32m      4\u001b[0m     \u001b[0mim2\u001b[0m \u001b[0;34m=\u001b[0m \u001b[0mcv2\u001b[0m\u001b[0;34m.\u001b[0m\u001b[0mimread\u001b[0m\u001b[0;34m(\u001b[0m\u001b[0mim2_path\u001b[0m\u001b[0;34m)\u001b[0m\u001b[0;34m\u001b[0m\u001b[0m\n\u001b[1;32m      5\u001b[0m     \u001b[0mgray1\u001b[0m \u001b[0;34m=\u001b[0m \u001b[0mcv2\u001b[0m\u001b[0;34m.\u001b[0m\u001b[0mcvtColor\u001b[0m\u001b[0;34m(\u001b[0m\u001b[0mim1\u001b[0m\u001b[0;34m,\u001b[0m \u001b[0mcv2\u001b[0m\u001b[0;34m.\u001b[0m\u001b[0mCOLOR_BGR2GRAY\u001b[0m\u001b[0;34m)\u001b[0m\u001b[0;34m\u001b[0m\u001b[0m\n\u001b[0;32m----> 6\u001b[0;31m     \u001b[0mgray2\u001b[0m \u001b[0;34m=\u001b[0m \u001b[0mcv2\u001b[0m\u001b[0;34m.\u001b[0m\u001b[0mcvtColor\u001b[0m\u001b[0;34m(\u001b[0m\u001b[0mim2\u001b[0m\u001b[0;34m,\u001b[0m \u001b[0mcv2\u001b[0m\u001b[0;34m.\u001b[0m\u001b[0mCOLOR_BGR2GRAY\u001b[0m\u001b[0;34m)\u001b[0m\u001b[0;34m\u001b[0m\u001b[0m\n\u001b[0m\u001b[1;32m      7\u001b[0m \u001b[0;34m\u001b[0m\u001b[0m\n\u001b[1;32m      8\u001b[0m     \u001b[0;31m# initialize the AKAZE descriptor, then detect keypoints and extract\u001b[0m\u001b[0;34m\u001b[0m\u001b[0;34m\u001b[0m\u001b[0m\n",
      "\u001b[0;31merror\u001b[0m: OpenCV(3.4.5) /io/opencv/modules/imgproc/src/color.cpp:181: error: (-215:Assertion failed) !_src.empty() in function 'cvtColor'\n"
     ]
    }
   ],
   "source": [
    "kaze_match('images/1.jpeg', 'images/bad1.jpeg1')"
   ]
  }
 ],
 "metadata": {
  "colab": {
   "collapsed_sections": [],
   "name": "opencv_image_search.ipynb",
   "provenance": [],
   "version": "0.3.2"
  },
  "kernelspec": {
   "display_name": "Python 3",
   "language": "python",
   "name": "python3"
  },
  "language_info": {
   "codemirror_mode": {
    "name": "ipython",
    "version": 3
   },
   "file_extension": ".py",
   "mimetype": "text/x-python",
   "name": "python",
   "nbconvert_exporter": "python",
   "pygments_lexer": "ipython3",
   "version": "3.6.5"
  }
 },
 "nbformat": 4,
 "nbformat_minor": 1
}
